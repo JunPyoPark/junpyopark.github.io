{
 "cells": [
  {
   "cell_type": "markdown",
   "metadata": {},
   "source": [
    "# 다시 돌아온 210721 Today I Learned"
   ]
  },
  {
   "cell_type": "markdown",
   "metadata": {
    "toc": true
   },
   "source": [
    "<h1>Table of Contents<span class=\"tocSkip\"></span></h1>\n",
    "<div class=\"toc\"><ul class=\"toc-item\"><li><span><a href=\"#저번주-공부-내용\" data-toc-modified-id=\"저번주-공부-내용-1\"><span class=\"toc-item-num\">1&nbsp;&nbsp;</span>저번주 공부 내용</a></span></li><li><span><a href=\"#미팅-내용-정리\" data-toc-modified-id=\"미팅-내용-정리-2\"><span class=\"toc-item-num\">2&nbsp;&nbsp;</span>미팅 내용 정리</a></span></li><li><span><a href=\"#논문-리딩\" data-toc-modified-id=\"논문-리딩-3\"><span class=\"toc-item-num\">3&nbsp;&nbsp;</span>논문 리딩</a></span><ul class=\"toc-item\"><li><span><a href=\"#추천-받은-논문들\" data-toc-modified-id=\"추천-받은-논문들-3.1\"><span class=\"toc-item-num\">3.1&nbsp;&nbsp;</span>추천 받은 논문들</a></span></li></ul></li></ul></div>"
   ]
  },
  {
   "cell_type": "markdown",
   "metadata": {},
   "source": [
    "## 저번주 공부 내용"
   ]
  },
  {
   "cell_type": "markdown",
   "metadata": {},
   "source": [
    "* Dive into Deep Learning Chapter 3까지 마무리 완료\n",
    "* GAN Toy model 만들어서 실제 금융 시계열 학습"
   ]
  },
  {
   "cell_type": "markdown",
   "metadata": {},
   "source": [
    "## 미팅 내용 정리"
   ]
  },
  {
   "cell_type": "markdown",
   "metadata": {},
   "source": [
    "* 노션 업로드"
   ]
  },
  {
   "cell_type": "markdown",
   "metadata": {},
   "source": [
    "## 논문 리딩"
   ]
  },
  {
   "cell_type": "markdown",
   "metadata": {},
   "source": [
    "* Think Globally, Act Locally: A Deep Neural Network Approach to High-Dimensional Time Series Forecasting\n",
    "\n",
    "    Multi dimensional Time series를 예측하는 방법에 대해서 다룬 논문 이전에 재호랑 프로젝트한 Glocal이 생각남"
   ]
  },
  {
   "cell_type": "markdown",
   "metadata": {},
   "source": [
    "* An Emperical Exploration of Recurrent Network Architectures\n",
    "\n",
    "    RNN이 LSTM을 이길 수 있을까? 유전 알고리즘을 통해 최고의 RNN구조를 찾아 LSTM, GRU와 대결 결과 정리\n",
    "    \n",
    "    LSTM에서 게이트를 하나씩 빼고 실험한 내용도 흥미로움"
   ]
  },
  {
   "cell_type": "markdown",
   "metadata": {},
   "source": [
    "* A Recurrent Latent Variable Model for Sequential Data\n",
    "\n",
    "    VRNN 논문, 읽어보기"
   ]
  },
  {
   "cell_type": "markdown",
   "metadata": {},
   "source": [
    "---"
   ]
  },
  {
   "cell_type": "markdown",
   "metadata": {},
   "source": [
    "### 추천 받은 논문들"
   ]
  },
  {
   "cell_type": "markdown",
   "metadata": {},
   "source": [
    "* Autoencoding Under Normalization Constraints"
   ]
  },
  {
   "cell_type": "markdown",
   "metadata": {},
   "source": [
    "* Lipschitz Continuous Autoencoders in Application to Anomaly Detection"
   ]
  },
  {
   "cell_type": "markdown",
   "metadata": {},
   "source": [
    "* Understanding Failures in Out-of-Distribution Detection with Deep Generative Models"
   ]
  },
  {
   "cell_type": "markdown",
   "metadata": {},
   "source": [
    "내일 이어서 읽기"
   ]
  }
 ],
 "metadata": {
  "interpreter": {
   "hash": "a874ce123973697a31e045c2ef415478c44c709b97254e39ee08388f91743410"
  },
  "kernelspec": {
   "display_name": "Python 3",
   "language": "python",
   "name": "python3"
  },
  "language_info": {
   "codemirror_mode": {
    "name": "ipython",
    "version": 3
   },
   "file_extension": ".py",
   "mimetype": "text/x-python",
   "name": "python",
   "nbconvert_exporter": "python",
   "pygments_lexer": "ipython3",
   "version": "3.8.3"
  },
  "toc": {
   "base_numbering": 1,
   "nav_menu": {},
   "number_sections": true,
   "sideBar": true,
   "skip_h1_title": true,
   "title_cell": "Table of Contents",
   "title_sidebar": "Contents",
   "toc_cell": true,
   "toc_position": {},
   "toc_section_display": true,
   "toc_window_display": false
  }
 },
 "nbformat": 4,
 "nbformat_minor": 4
}
