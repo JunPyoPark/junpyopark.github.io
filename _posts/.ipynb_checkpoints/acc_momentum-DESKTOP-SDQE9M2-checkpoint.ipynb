{
 "cells": [
  {
   "cell_type": "markdown",
   "metadata": {},
   "source": [
    "<h1 style=\"text-align:center;\">가속화 모멘텀 전략</h1>\n",
    "<p style=\"text-align:right;\"><strong>Coded by JunPyo Park</strong></p>"
   ]
  },
  {
   "cell_type": "markdown",
   "metadata": {},
   "source": [
    "**References**\n",
    "\n",
    "* [Momentum, Acceleration, and Reversal(2015)](https://www.researchgate.net/publication/294582144_Momentum_Acceleration_and_Reversal)\n",
    "* 대신증권 2021.05.17. Quant 리포트: [가속화 모멘텀 전략](http://money2.daishin.com/E5/Mail/eDM/Research/popup_pdf.aspx?gb=4&seq=46461)\n",
    "---"
   ]
  },
  {
   "cell_type": "markdown",
   "metadata": {
    "toc": true
   },
   "source": [
    "<h1>Table of Contents<span class=\"tocSkip\"></span></h1>\n",
    "<div class=\"toc\"><ul class=\"toc-item\"><li><span><a href=\"#Read-Data\" data-toc-modified-id=\"Read-Data-1\"><span class=\"toc-item-num\">1&nbsp;&nbsp;</span>Read Data</a></span></li><li><span><a href=\"#Simple-Momentum-Check\" data-toc-modified-id=\"Simple-Momentum-Check-2\"><span class=\"toc-item-num\">2&nbsp;&nbsp;</span>Simple Momentum Check</a></span></li><li><span><a href=\"#class-portfolio()\" data-toc-modified-id=\"class-portfolio()-3\"><span class=\"toc-item-num\">3&nbsp;&nbsp;</span><code>class portfolio()</code></a></span></li><li><span><a href=\"#Results\" data-toc-modified-id=\"Results-4\"><span class=\"toc-item-num\">4&nbsp;&nbsp;</span>Results</a></span><ul class=\"toc-item\"><li><span><a href=\"#PR1YR-vs-ACC-모멘텀-성과-추이-비교\" data-toc-modified-id=\"PR1YR-vs-ACC-모멘텀-성과-추이-비교-4.1\"><span class=\"toc-item-num\">4.1&nbsp;&nbsp;</span>PR1YR vs ACC 모멘텀 성과 추이 비교</a></span></li><li><span><a href=\"#변동성-대비-수익률\" data-toc-modified-id=\"변동성-대비-수익률-4.2\"><span class=\"toc-item-num\">4.2&nbsp;&nbsp;</span>변동성 대비 수익률</a></span></li></ul></li><li><span><a href=\"#Paper의-Figure-2\" data-toc-modified-id=\"Paper의-Figure-2-5\"><span class=\"toc-item-num\">5&nbsp;&nbsp;</span>Paper의 Figure 2</a></span><ul class=\"toc-item\"><li><span><a href=\"#Q2,-Q3,-Q4-Plot\" data-toc-modified-id=\"Q2,-Q3,-Q4-Plot-5.1\"><span class=\"toc-item-num\">5.1&nbsp;&nbsp;</span>Q2, Q3, Q4 Plot</a></span></li></ul></li><li><span><a href=\"#Q-portfolio-Example\" data-toc-modified-id=\"Q-portfolio-Example-6\"><span class=\"toc-item-num\">6&nbsp;&nbsp;</span>Q portfolio Example</a></span></li></ul></div>"
   ]
  },
  {
   "cell_type": "code",
   "execution_count": 1,
   "metadata": {},
   "outputs": [],
   "source": [
    "import pandas as pd\n",
    "import numpy as np\n",
    "import datetime\n",
    "from dateutil.relativedelta import relativedelta\n",
    "import matplotlib.pyplot as plt\n",
    "%matplotlib inline"
   ]
  },
  {
   "cell_type": "markdown",
   "metadata": {},
   "source": [
    "## Read Data"
   ]
  },
  {
   "cell_type": "code",
   "execution_count": 2,
   "metadata": {},
   "outputs": [],
   "source": [
    "# FinanceDataReader 통해 받은 데이터\n",
    "# stocks = fdr.StockListing('KOSPI') # 여기 리스트에 있는 종목의 종가만 사용\n",
    "df = pd.read_pickle('kospi.pkl')['2004':]"
   ]
  },
  {
   "cell_type": "code",
   "execution_count": 3,
   "metadata": {},
   "outputs": [
    {
     "data": {
      "text/html": [
       "<div>\n",
       "<style scoped>\n",
       "    .dataframe tbody tr th:only-of-type {\n",
       "        vertical-align: middle;\n",
       "    }\n",
       "\n",
       "    .dataframe tbody tr th {\n",
       "        vertical-align: top;\n",
       "    }\n",
       "\n",
       "    .dataframe thead th {\n",
       "        text-align: right;\n",
       "    }\n",
       "</style>\n",
       "<table border=\"1\" class=\"dataframe\">\n",
       "  <thead>\n",
       "    <tr style=\"text-align: right;\">\n",
       "      <th></th>\n",
       "      <th>AJ네트웍스</th>\n",
       "      <th>AK홀딩스</th>\n",
       "      <th>BGF</th>\n",
       "      <th>BGF리테일</th>\n",
       "      <th>BNK금융지주</th>\n",
       "      <th>BYC</th>\n",
       "      <th>CJ</th>\n",
       "      <th>CJ CGV</th>\n",
       "      <th>CJ대한통운</th>\n",
       "      <th>CJ씨푸드</th>\n",
       "      <th>...</th>\n",
       "      <th>효성티앤씨</th>\n",
       "      <th>효성화학</th>\n",
       "      <th>후성</th>\n",
       "      <th>휠라홀딩스</th>\n",
       "      <th>휴니드</th>\n",
       "      <th>휴비스</th>\n",
       "      <th>휴스틸</th>\n",
       "      <th>휴켐스</th>\n",
       "      <th>흥국화재</th>\n",
       "      <th>흥아해운</th>\n",
       "    </tr>\n",
       "    <tr>\n",
       "      <th>Date</th>\n",
       "      <th></th>\n",
       "      <th></th>\n",
       "      <th></th>\n",
       "      <th></th>\n",
       "      <th></th>\n",
       "      <th></th>\n",
       "      <th></th>\n",
       "      <th></th>\n",
       "      <th></th>\n",
       "      <th></th>\n",
       "      <th></th>\n",
       "      <th></th>\n",
       "      <th></th>\n",
       "      <th></th>\n",
       "      <th></th>\n",
       "      <th></th>\n",
       "      <th></th>\n",
       "      <th></th>\n",
       "      <th></th>\n",
       "      <th></th>\n",
       "      <th></th>\n",
       "    </tr>\n",
       "  </thead>\n",
       "  <tbody>\n",
       "    <tr>\n",
       "      <th>2004-01-02</th>\n",
       "      <td>NaN</td>\n",
       "      <td>8297.0</td>\n",
       "      <td>NaN</td>\n",
       "      <td>NaN</td>\n",
       "      <td>NaN</td>\n",
       "      <td>39600.0</td>\n",
       "      <td>31419.0</td>\n",
       "      <td>NaN</td>\n",
       "      <td>14400.0</td>\n",
       "      <td>475.0</td>\n",
       "      <td>...</td>\n",
       "      <td>NaN</td>\n",
       "      <td>NaN</td>\n",
       "      <td>NaN</td>\n",
       "      <td>NaN</td>\n",
       "      <td>4100.0</td>\n",
       "      <td>NaN</td>\n",
       "      <td>4625.0</td>\n",
       "      <td>1984.0</td>\n",
       "      <td>4723.0</td>\n",
       "      <td>963.0</td>\n",
       "    </tr>\n",
       "    <tr>\n",
       "      <th>2004-01-05</th>\n",
       "      <td>NaN</td>\n",
       "      <td>8109.0</td>\n",
       "      <td>NaN</td>\n",
       "      <td>NaN</td>\n",
       "      <td>NaN</td>\n",
       "      <td>39700.0</td>\n",
       "      <td>32122.0</td>\n",
       "      <td>NaN</td>\n",
       "      <td>14325.0</td>\n",
       "      <td>480.0</td>\n",
       "      <td>...</td>\n",
       "      <td>NaN</td>\n",
       "      <td>NaN</td>\n",
       "      <td>NaN</td>\n",
       "      <td>NaN</td>\n",
       "      <td>4150.0</td>\n",
       "      <td>NaN</td>\n",
       "      <td>4680.0</td>\n",
       "      <td>2036.0</td>\n",
       "      <td>4644.0</td>\n",
       "      <td>1012.0</td>\n",
       "    </tr>\n",
       "    <tr>\n",
       "      <th>2004-01-06</th>\n",
       "      <td>NaN</td>\n",
       "      <td>7858.0</td>\n",
       "      <td>NaN</td>\n",
       "      <td>NaN</td>\n",
       "      <td>NaN</td>\n",
       "      <td>39500.0</td>\n",
       "      <td>32272.0</td>\n",
       "      <td>NaN</td>\n",
       "      <td>14250.0</td>\n",
       "      <td>470.0</td>\n",
       "      <td>...</td>\n",
       "      <td>NaN</td>\n",
       "      <td>NaN</td>\n",
       "      <td>NaN</td>\n",
       "      <td>NaN</td>\n",
       "      <td>4050.0</td>\n",
       "      <td>NaN</td>\n",
       "      <td>4575.0</td>\n",
       "      <td>2129.0</td>\n",
       "      <td>4654.0</td>\n",
       "      <td>1162.0</td>\n",
       "    </tr>\n",
       "    <tr>\n",
       "      <th>2004-01-07</th>\n",
       "      <td>NaN</td>\n",
       "      <td>7670.0</td>\n",
       "      <td>NaN</td>\n",
       "      <td>NaN</td>\n",
       "      <td>NaN</td>\n",
       "      <td>39200.0</td>\n",
       "      <td>32674.0</td>\n",
       "      <td>NaN</td>\n",
       "      <td>15075.0</td>\n",
       "      <td>480.0</td>\n",
       "      <td>...</td>\n",
       "      <td>NaN</td>\n",
       "      <td>NaN</td>\n",
       "      <td>NaN</td>\n",
       "      <td>NaN</td>\n",
       "      <td>4000.0</td>\n",
       "      <td>NaN</td>\n",
       "      <td>4655.0</td>\n",
       "      <td>2114.0</td>\n",
       "      <td>4605.0</td>\n",
       "      <td>1333.0</td>\n",
       "    </tr>\n",
       "    <tr>\n",
       "      <th>2004-01-08</th>\n",
       "      <td>NaN</td>\n",
       "      <td>7576.0</td>\n",
       "      <td>NaN</td>\n",
       "      <td>NaN</td>\n",
       "      <td>NaN</td>\n",
       "      <td>39400.0</td>\n",
       "      <td>32674.0</td>\n",
       "      <td>NaN</td>\n",
       "      <td>15000.0</td>\n",
       "      <td>510.0</td>\n",
       "      <td>...</td>\n",
       "      <td>NaN</td>\n",
       "      <td>NaN</td>\n",
       "      <td>NaN</td>\n",
       "      <td>NaN</td>\n",
       "      <td>4050.0</td>\n",
       "      <td>NaN</td>\n",
       "      <td>4560.0</td>\n",
       "      <td>2033.0</td>\n",
       "      <td>4428.0</td>\n",
       "      <td>1532.0</td>\n",
       "    </tr>\n",
       "  </tbody>\n",
       "</table>\n",
       "<p>5 rows × 770 columns</p>\n",
       "</div>"
      ],
      "text/plain": [
       "            AJ네트웍스   AK홀딩스  BGF  BGF리테일  BNK금융지주      BYC       CJ  CJ CGV  \\\n",
       "Date                                                                         \n",
       "2004-01-02     NaN  8297.0  NaN     NaN      NaN  39600.0  31419.0     NaN   \n",
       "2004-01-05     NaN  8109.0  NaN     NaN      NaN  39700.0  32122.0     NaN   \n",
       "2004-01-06     NaN  7858.0  NaN     NaN      NaN  39500.0  32272.0     NaN   \n",
       "2004-01-07     NaN  7670.0  NaN     NaN      NaN  39200.0  32674.0     NaN   \n",
       "2004-01-08     NaN  7576.0  NaN     NaN      NaN  39400.0  32674.0     NaN   \n",
       "\n",
       "             CJ대한통운  CJ씨푸드  ...  효성티앤씨  효성화학  후성  휠라홀딩스     휴니드  휴비스     휴스틸  \\\n",
       "Date                        ...                                                \n",
       "2004-01-02  14400.0  475.0  ...    NaN   NaN NaN    NaN  4100.0  NaN  4625.0   \n",
       "2004-01-05  14325.0  480.0  ...    NaN   NaN NaN    NaN  4150.0  NaN  4680.0   \n",
       "2004-01-06  14250.0  470.0  ...    NaN   NaN NaN    NaN  4050.0  NaN  4575.0   \n",
       "2004-01-07  15075.0  480.0  ...    NaN   NaN NaN    NaN  4000.0  NaN  4655.0   \n",
       "2004-01-08  15000.0  510.0  ...    NaN   NaN NaN    NaN  4050.0  NaN  4560.0   \n",
       "\n",
       "               휴켐스    흥국화재    흥아해운  \n",
       "Date                                \n",
       "2004-01-02  1984.0  4723.0   963.0  \n",
       "2004-01-05  2036.0  4644.0  1012.0  \n",
       "2004-01-06  2129.0  4654.0  1162.0  \n",
       "2004-01-07  2114.0  4605.0  1333.0  \n",
       "2004-01-08  2033.0  4428.0  1532.0  \n",
       "\n",
       "[5 rows x 770 columns]"
      ]
     },
     "execution_count": 3,
     "metadata": {},
     "output_type": "execute_result"
    }
   ],
   "source": [
    "df.head()"
   ]
  },
  {
   "cell_type": "markdown",
   "metadata": {},
   "source": [
    "* 정확한 분석을 위해서는 현재 상폐된 종목, 해당 시점 KOSPI 대형주 유니버스(대신증권 리포트 기준) 등을 고려해야 함"
   ]
  },
  {
   "cell_type": "markdown",
   "metadata": {},
   "source": [
    "## Simple Momentum Check"
   ]
  },
  {
   "cell_type": "code",
   "execution_count": 177,
   "metadata": {},
   "outputs": [],
   "source": [
    "current_dt = df.loc['2011-01'].index[-1]\n",
    "holding_period = relativedelta(months=3) # months\n",
    "lookback_period = relativedelta(months=12) # months\n",
    "start_dt = current_dt - lookback_period\n",
    "end_dt = current_dt + holding_period"
   ]
  },
  {
   "cell_type": "code",
   "execution_count": 178,
   "metadata": {},
   "outputs": [
    {
     "data": {
      "text/plain": [
       "Timestamp('2010-01-31 00:00:00')"
      ]
     },
     "execution_count": 178,
     "metadata": {},
     "output_type": "execute_result"
    }
   ],
   "source": [
    "start_dt"
   ]
  },
  {
   "cell_type": "code",
   "execution_count": 179,
   "metadata": {},
   "outputs": [
    {
     "data": {
      "text/plain": [
       "Timestamp('2011-01-31 00:00:00')"
      ]
     },
     "execution_count": 179,
     "metadata": {},
     "output_type": "execute_result"
    }
   ],
   "source": [
    "current_dt"
   ]
  },
  {
   "cell_type": "code",
   "execution_count": 180,
   "metadata": {},
   "outputs": [
    {
     "data": {
      "text/plain": [
       "Timestamp('2011-04-30 00:00:00')"
      ]
     },
     "execution_count": 180,
     "metadata": {},
     "output_type": "execute_result"
    }
   ],
   "source": [
    "end_dt"
   ]
  },
  {
   "cell_type": "code",
   "execution_count": 181,
   "metadata": {
    "scrolled": true
   },
   "outputs": [],
   "source": [
    "def calc_pct_return(price_table, start_dt, end_dt):\n",
    "    price_table = price_table[start_dt:end_dt]\n",
    "    start_price = price_table.iloc[0]\n",
    "    end_price = price_table.iloc[-1]\n",
    "    pct_return = (end_price-start_price) / start_price # pct return\n",
    "    return pct_return"
   ]
  },
  {
   "cell_type": "code",
   "execution_count": 182,
   "metadata": {},
   "outputs": [],
   "source": [
    "# 12 - 1\n",
    "scored_df = calc_pct_return(df, start_dt, current_dt-relativedelta(months=1)).sort_values(ascending=True).dropna()"
   ]
  },
  {
   "cell_type": "code",
   "execution_count": 187,
   "metadata": {},
   "outputs": [
    {
     "data": {
      "text/plain": [
       "인스코비      -0.795802\n",
       "티웨이홀딩스    -0.705206\n",
       "웰바이오텍     -0.694910\n",
       "미래아이앤지    -0.631873\n",
       "쎌마테라퓨틱스   -0.584641\n",
       "             ...   \n",
       "현대엘리베이     2.454344\n",
       "백산         2.627907\n",
       "화승코퍼레이션    3.183133\n",
       "금호석유       4.195402\n",
       "일진다이아      4.487209\n",
       "Length: 606, dtype: float64"
      ]
     },
     "execution_count": 187,
     "metadata": {},
     "output_type": "execute_result"
    }
   ],
   "source": [
    "scored_df"
   ]
  },
  {
   "cell_type": "code",
   "execution_count": 183,
   "metadata": {},
   "outputs": [],
   "source": [
    "def quintile(df): # 5분위 나누기\n",
    "    Q = {}\n",
    "    step_size = len(df) / 5\n",
    "    for i in range(5):\n",
    "        Q[i+1] = df.iloc[int(i*len(df)/5):int((i+1)*len(df)/5)]\n",
    "    return Q"
   ]
  },
  {
   "cell_type": "code",
   "execution_count": 184,
   "metadata": {},
   "outputs": [],
   "source": [
    "Q = quintile(scored_df) # Q[1] ~ Q[5]"
   ]
  },
  {
   "cell_type": "code",
   "execution_count": 189,
   "metadata": {},
   "outputs": [
    {
     "data": {
      "text/plain": [
       "인스코비      -0.795802\n",
       "티웨이홀딩스    -0.705206\n",
       "웰바이오텍     -0.694910\n",
       "미래아이앤지    -0.631873\n",
       "쎌마테라퓨틱스   -0.584641\n",
       "             ...   \n",
       "POSCO     -0.082863\n",
       "까뮤이앤씨     -0.077901\n",
       "샘표        -0.072931\n",
       "한창제지      -0.072581\n",
       "계룡건설      -0.072165\n",
       "Length: 121, dtype: float64"
      ]
     },
     "execution_count": 189,
     "metadata": {},
     "output_type": "execute_result"
    }
   ],
   "source": [
    "Q[1]"
   ]
  },
  {
   "cell_type": "code",
   "execution_count": 190,
   "metadata": {},
   "outputs": [
    {
     "data": {
      "text/plain": [
       "한국가스공사   -0.070888\n",
       "하이트진로    -0.070866\n",
       "한창       -0.070769\n",
       "KT&G     -0.070402\n",
       "KH 필룩스   -0.069915\n",
       "            ...   \n",
       "한화투자증권    0.065334\n",
       "동양철관      0.065955\n",
       "신영증권      0.067416\n",
       "CS홀딩스     0.068220\n",
       "삼성제약      0.068493\n",
       "Length: 121, dtype: float64"
      ]
     },
     "execution_count": 190,
     "metadata": {},
     "output_type": "execute_result"
    }
   ],
   "source": [
    "Q[2]"
   ]
  },
  {
   "cell_type": "code",
   "execution_count": 191,
   "metadata": {},
   "outputs": [
    {
     "data": {
      "text/plain": [
       "STX중공업      0.069869\n",
       "카카오         0.075220\n",
       "LG디스플레이     0.075676\n",
       "신세계건설       0.076923\n",
       "지역난방공사      0.078912\n",
       "              ...   \n",
       "디티알오토모티브    0.253356\n",
       "삼성SDI       0.253731\n",
       "SJM홀딩스      0.254384\n",
       "광동제약        0.255474\n",
       "팜스코         0.259067\n",
       "Length: 121, dtype: float64"
      ]
     },
     "execution_count": 191,
     "metadata": {},
     "output_type": "execute_result"
    }
   ],
   "source": [
    "Q[3]"
   ]
  },
  {
   "cell_type": "code",
   "execution_count": 192,
   "metadata": {},
   "outputs": [
    {
     "data": {
      "text/plain": [
       "팜젠사이언스     0.263233\n",
       "일정실업       0.269767\n",
       "현대코퍼레이션    0.269826\n",
       "삼성전기       0.270492\n",
       "SK네트웍스     0.271429\n",
       "             ...   \n",
       "동국제강       0.560006\n",
       "DB         0.560828\n",
       "유니드        0.565339\n",
       "삼아알미늄      0.566740\n",
       "현대글로비스     0.568421\n",
       "Length: 121, dtype: float64"
      ]
     },
     "execution_count": 192,
     "metadata": {},
     "output_type": "execute_result"
    }
   ],
   "source": [
    "Q[4]"
   ]
  },
  {
   "cell_type": "code",
   "execution_count": 193,
   "metadata": {},
   "outputs": [
    {
     "data": {
      "text/plain": [
       "이월드        0.576923\n",
       "태림포장       0.585000\n",
       "흥아해운       0.587367\n",
       "화천기계       0.590909\n",
       "엔씨소프트      0.591603\n",
       "             ...   \n",
       "현대엘리베이     2.454344\n",
       "백산         2.627907\n",
       "화승코퍼레이션    3.183133\n",
       "금호석유       4.195402\n",
       "일진다이아      4.487209\n",
       "Length: 122, dtype: float64"
      ]
     },
     "execution_count": 193,
     "metadata": {},
     "output_type": "execute_result"
    }
   ],
   "source": [
    "Q[5]"
   ]
  },
  {
   "cell_type": "code",
   "execution_count": 185,
   "metadata": {
    "scrolled": false
   },
   "outputs": [],
   "source": [
    "q_returns = []\n",
    "for i in range(1,6):\n",
    "    q_returns.append(calc_pct_return(df[Q[i].index], current_dt, end_dt).mean())"
   ]
  },
  {
   "cell_type": "code",
   "execution_count": 186,
   "metadata": {},
   "outputs": [
    {
     "data": {
      "text/plain": [
       "[-0.033732256247659985,\n",
       " -0.01986203964132793,\n",
       " 0.04768286031373055,\n",
       " 0.046026712861453226,\n",
       " 0.10795602934794454]"
      ]
     },
     "execution_count": 186,
     "metadata": {},
     "output_type": "execute_result"
    }
   ],
   "source": [
    "q_returns"
   ]
  },
  {
   "cell_type": "markdown",
   "metadata": {},
   "source": [
    "## `class portfolio()`"
   ]
  },
  {
   "cell_type": "code",
   "execution_count": 4,
   "metadata": {},
   "outputs": [],
   "source": [
    "class portfolio():\n",
    "    \n",
    "    def __init__(self,start_year_month, rebalancing_day, holding_period, strategy_type):\n",
    "        self.start_dt = df[start_year_month].index[rebalancing_day-1]\n",
    "        self.current_dt = self.start_dt\n",
    "        self.holding_period = relativedelta(months=holding_period) # months\n",
    "        self.strategy_type = strategy_type\n",
    "        self.stock_list = {}\n",
    "        self.returns = {}\n",
    "        self.current_wealth = 1\n",
    "        self.wealth = {}\n",
    "        self.end_dt = datetime.datetime.today()\n",
    "    \n",
    "    def filter_stocks(self):\n",
    "        # 편의상 해당 시점에 가격이 존재하는 종목만 filtering\n",
    "        st = self.current_dt - relativedelta(months=12)\n",
    "        et = self.current_dt + self.holding_period\n",
    "        available_stocks = df[st:et].dropna(axis=1).columns\n",
    "        return df[available_stocks][st:self.current_dt]\n",
    "    \n",
    "    def calc_pct_return(self, price_table, st, et):\n",
    "        start_price = price_table[st:et].iloc[0]\n",
    "        end_price = price_table[st:et].iloc[-1]\n",
    "        pct_return = (end_price-start_price) / start_price # pct return\n",
    "        return pct_return\n",
    "    \n",
    "    def momentum_scoring(self,price_table):\n",
    "        # 12_1 Momentum\n",
    "        st = self.current_dt - relativedelta(months=12)\n",
    "        et = self.current_dt - relativedelta(months=1)\n",
    "        scored_df = self.calc_pct_return(price_table, st, et)\n",
    "        return scored_df.sort_values(ascending=True) # 값이 큰게 5분위로 가도록\n",
    "    \n",
    "    def acc_momentum_scoring(self,price_table):\n",
    "        # Acceleration Momentum\n",
    "        weight_scheme = [1] * 6 + [-1] * 6 # use simple weight scheme\n",
    "        scored_array = np.zeros(len(price_table.columns))\n",
    "        \n",
    "        et = self.current_dt # end dt\n",
    "        for i in range(1,13):\n",
    "            st = self.current_dt - relativedelta(months=i) # start dt\n",
    "            r_i = self.calc_pct_return(price_table, st, et)\n",
    "            r_i = (1+r_i) ** (1/i) - 1 # monthly average\n",
    "            scored_array += weight_scheme[i-1] * r_i\n",
    "        scored_df = pd.Series(scored_array, index=price_table.columns)   \n",
    "\n",
    "        return scored_df.sort_values(ascending=False) # 값이 작은게 5분위로 가도록\n",
    "    \n",
    "    def quintile(self,df): # 5분위 나누기\n",
    "        Q = {}\n",
    "        step_size = len(df) / 5\n",
    "        for i in range(5):\n",
    "            Q[i+1] = df.iloc[int(i*len(df)/5):int((i+1)*len(df)/5)]\n",
    "        return Q\n",
    "    \n",
    "    def calc_port_return(self,buy_stocks,sell_stocks):\n",
    "        \n",
    "        st = self.current_dt\n",
    "        et = self.current_dt + self.holding_period\n",
    "        \n",
    "        # buy reutrn\n",
    "        buy_return = self.calc_pct_return(df[buy_stocks], st, et)\n",
    "        \n",
    "        # sell return\n",
    "        sell_return = self.calc_pct_return(df[sell_stocks], st, et)\n",
    "        \n",
    "        # equal-weighted portfolio\n",
    "        # for simplicity\n",
    "        return (buy_return.mean() - sell_return.mean())\n",
    "    \n",
    "    def construct_portfolio(self):\n",
    "        \n",
    "        while((self.current_dt + self.holding_period) < self.end_dt):\n",
    "            price_table = self.filter_stocks()\n",
    "            if self.strategy_type == 'simple':\n",
    "                scored_df = self.momentum_scoring(price_table)\n",
    "            elif self.strategy_type == 'acc':\n",
    "                scored_df = self.acc_momentum_scoring(price_table)\n",
    "                \n",
    "            Q = self.quintile(scored_df) # Q[1] ~ Q[5]\n",
    "            buy_stocks = list(Q[5].index)+list(Q[4].index)  # 4,5 분위 매수\n",
    "            sell_stocks = list(Q[2].index)+list(Q[1].index) # 1,2 분위 매도\n",
    "            \n",
    "            self.stock_list[self.current_dt] = {'buy':buy_stocks,\n",
    "                                               'sell':sell_stocks}\n",
    "            \n",
    "            port_return = self.calc_port_return(buy_stocks,sell_stocks)\n",
    "            \n",
    "            self.returns[self.current_dt] = port_return\n",
    "            self.current_wealth = self.current_wealth * (1+port_return)\n",
    "            self.wealth[self.current_dt] = self.current_wealth\n",
    "            # print(self.current_dt, len(buy_stocks), len(sell_stocks))\n",
    "            self.current_dt += self.holding_period\n",
    "        \n",
    "        return pd.Series(self.wealth)"
   ]
  },
  {
   "cell_type": "code",
   "execution_count": 209,
   "metadata": {},
   "outputs": [],
   "source": [
    "# 가속화 모멘텀 전략\n",
    "acc_port = portfolio(start_year_month = '2005-01',\n",
    "                 rebalancing_day = 0, # 0 월의 마지막 거래일 리밸런싱\n",
    "                 holding_period = 1,\n",
    "                 strategy_type = 'acc')\n",
    "\n",
    "acc_wealth = acc_port.construct_portfolio()"
   ]
  },
  {
   "cell_type": "code",
   "execution_count": 210,
   "metadata": {},
   "outputs": [
    {
     "data": {
      "image/png": "[encoded data removed]",
      "text/plain": [
       "<Figure size 432x288 with 1 Axes>"
      ]
     },
     "metadata": {
      "needs_background": "light"
     },
     "output_type": "display_data"
    }
   ],
   "source": [
    "acc_wealth.plot();"
   ]
  },
  {
   "cell_type": "code",
   "execution_count": 211,
   "metadata": {},
   "outputs": [],
   "source": [
    "# 단순 모멘텀 전략(PR1YR)\n",
    "simple_momentum_port = portfolio(start_year_month = '2005-01',\n",
    "                 rebalancing_day = 0, # 0 월의 마지막 거래일 리밸런싱\n",
    "                 holding_period = 1,\n",
    "                 strategy_type = 'simple')\n",
    "simple_wealth = simple_momentum_port.construct_portfolio()"
   ]
  },
  {
   "cell_type": "code",
   "execution_count": 212,
   "metadata": {},
   "outputs": [
    {
     "data": {
      "image/png": "[encoded data removed]",
      "text/plain": [
       "<Figure size 432x288 with 1 Axes>"
      ]
     },
     "metadata": {
      "needs_background": "light"
     },
     "output_type": "display_data"
    }
   ],
   "source": [
    "simple_wealth.plot();"
   ]
  },
  {
   "cell_type": "markdown",
   "metadata": {},
   "source": [
    "## Results"
   ]
  },
  {
   "cell_type": "markdown",
   "metadata": {},
   "source": [
    "### PR1YR vs ACC 모멘텀 성과 추이 비교"
   ]
  },
  {
   "cell_type": "code",
   "execution_count": 213,
   "metadata": {},
   "outputs": [
    {
     "data": {
      "image/png": "[encoded data removed]",
      "text/plain": [
       "<Figure size 864x504 with 1 Axes>"
      ]
     },
     "metadata": {
      "needs_background": "light"
     },
     "output_type": "display_data"
    }
   ],
   "source": [
    "plt.figure(figsize=(12,7))\n",
    "acc_wealth.plot(label='Accelerated Momentum');\n",
    "simple_wealth.plot(label='PR1YR Momentum');\n",
    "plt.legend()\n",
    "plt.show()"
   ]
  },
  {
   "cell_type": "markdown",
   "metadata": {},
   "source": [
    "![](https://trello-attachments.s3.amazonaws.com/5b29ec749cfb0d90ada47d03/5fbb135a2a4a0409baa86e9c/93c0732fa306ce8f228c6f85b535360b/image.png)"
   ]
  },
  {
   "cell_type": "markdown",
   "metadata": {},
   "source": [
    "* 리포트에서는 KOSPI 대형주 유니버스를 사용해서 결과값이 다르게 나옴 (<del>아니면 코드를 잘못 만들었거나...</del>)"
   ]
  },
  {
   "cell_type": "markdown",
   "metadata": {},
   "source": [
    "* 포트폴리오 수익률 계산 시 원래 페이퍼에서는 value-weighted(시총을 반영한 비중) 방식을 사용했지만 여기서는 equal-weighted 방식을 사용"
   ]
  },
  {
   "cell_type": "markdown",
   "metadata": {},
   "source": [
    "### 변동성 대비 수익률"
   ]
  },
  {
   "cell_type": "markdown",
   "metadata": {},
   "source": [
    "![](https://trello-attachments.s3.amazonaws.com/5b29ec749cfb0d90ada47d03/5fbb135a2a4a0409baa86e9c/f327d20c8f1a7ba5462b551847037933/image.png)"
   ]
  },
  {
   "cell_type": "code",
   "execution_count": 214,
   "metadata": {},
   "outputs": [],
   "source": [
    "acc_logret = np.log(acc_wealth / acc_wealth.shift(1)).dropna()"
   ]
  },
  {
   "cell_type": "code",
   "execution_count": 215,
   "metadata": {},
   "outputs": [],
   "source": [
    "simple_logret = np.log(simple_wealth / simple_wealth.shift(1)).dropna()"
   ]
  },
  {
   "cell_type": "code",
   "execution_count": 216,
   "metadata": {},
   "outputs": [
    {
     "data": {
      "text/plain": [
       "0.523569568275349"
      ]
     },
     "execution_count": 216,
     "metadata": {},
     "output_type": "execute_result"
    }
   ],
   "source": [
    "# 가속화 모멘텀 0.523\n",
    "acc_logret.mean() / acc_logret.std() * np.sqrt(12) # annualize"
   ]
  },
  {
   "cell_type": "code",
   "execution_count": 217,
   "metadata": {},
   "outputs": [
    {
     "data": {
      "text/plain": [
       "0.21721580159360945"
      ]
     },
     "execution_count": 217,
     "metadata": {},
     "output_type": "execute_result"
    }
   ],
   "source": [
    "# PR1YR 0.217\n",
    "simple_logret.mean() / simple_logret.std() * np.sqrt(12)"
   ]
  },
  {
   "cell_type": "markdown",
   "metadata": {},
   "source": [
    "## Paper의 Figure 2"
   ]
  },
  {
   "cell_type": "code",
   "execution_count": 175,
   "metadata": {},
   "outputs": [],
   "source": [
    "class portfolio():\n",
    "    \n",
    "    def __init__(self,start_year_month, rebalancing_day, holding_period, lagging_period):\n",
    "        self.start_dt = df[start_year_month].index[rebalancing_day-1]\n",
    "        self.current_dt = self.start_dt\n",
    "        self.holding_period = relativedelta(months=holding_period) # months\n",
    "        self.returns = {}\n",
    "        self.current_wealth = 1\n",
    "        self.wealth = {}\n",
    "        self.end_dt = datetime.datetime.today()\n",
    "        # self.end_dt = pd.Timestamp('2010')\n",
    "        self.num_lagging = lagging_period\n",
    "        self.lagging_period=relativedelta(months=lagging_period) # months\n",
    "    \n",
    "    def filter_stocks(self):\n",
    "        # 편의상 해당 시점에 가격이 존재하는 종목만 filtering\n",
    "        st = self.current_dt - self.lagging_period\n",
    "        et = self.current_dt + self.holding_period\n",
    "        available_stocks = df[st:et].dropna(axis=1).columns\n",
    "        return df[available_stocks][st:self.current_dt]\n",
    "    \n",
    "    def calc_pct_return(self, price_table, st, et):\n",
    "        start_price = price_table[st:et].iloc[0]\n",
    "        end_price = price_table[st:et].iloc[-1]\n",
    "        pct_return = (end_price-start_price) / start_price # pct return\n",
    "        return pct_return\n",
    "    \n",
    "    def momentum_scoring(self,price_table):\n",
    "        st = self.current_dt - self.lagging_period\n",
    "        et = self.current_dt\n",
    "        scored_df = self.calc_pct_return(price_table, st, et)\n",
    "        return scored_df.sort_values(ascending=True) # 값이 큰게 5분위로 가도록\n",
    "    \n",
    "    def quintile(self,df): # 5분위 나누기\n",
    "        Q = {}\n",
    "        step_size = len(df) / 5\n",
    "        for i in range(5):\n",
    "            Q[i+1] = df.iloc[int(i*len(df)/5):int((i+1)*len(df)/5)]\n",
    "        return Q\n",
    "    \n",
    "    def calc_port_return(self,buy_stocks):\n",
    "        \n",
    "        st = self.current_dt\n",
    "        et = self.current_dt + self.holding_period\n",
    "        \n",
    "        # buy reutrn\n",
    "        buy_return = self.calc_pct_return(df[buy_stocks], st, et)\n",
    "        \n",
    "        # equal-weighted portfolio\n",
    "        # for simplicity\n",
    "        return buy_return.mean()\n",
    "    \n",
    "    def construct_portfolio(self):\n",
    "        \n",
    "        while((self.current_dt + self.holding_period) < self.end_dt):\n",
    "            \n",
    "            price_table = self.filter_stocks()\n",
    "            \n",
    "            scored_df = self.momentum_scoring(price_table)\n",
    "    \n",
    "            self.Q = self.quintile(scored_df) # Q[1] ~ Q[5]\n",
    "            \n",
    "            quintiles = [2,3,4]\n",
    "            q_returns = []\n",
    "            for q in quintiles:\n",
    "                buy_stocks = list(self.Q[q].index) # 2,3,4 분위\n",
    "                port_return = self.calc_port_return(buy_stocks)\n",
    "                q_returns.append(port_return)\n",
    "            \n",
    "            self.returns[self.current_dt] = q_returns\n",
    "            self.current_dt += self.holding_period\n",
    "        \n",
    "        q_returns = pd.DataFrame(self.returns).T\n",
    "        q_returns.columns = ['Q2','Q3','Q4']\n",
    "            \n",
    "        return ((1+q_returns).cumprod() ** (1/len(q_returns)) - 1).iloc[-1]\n",
    "        # return q_returns.mean()"
   ]
  },
  {
   "cell_type": "markdown",
   "metadata": {},
   "source": [
    "### Q2, Q3, Q4 Plot"
   ]
  },
  {
   "cell_type": "code",
   "execution_count": 189,
   "metadata": {},
   "outputs": [],
   "source": [
    "q = pd.DataFrame(columns=['Q2','Q3','Q4'])\n",
    "for i in range(1,13): # lagging months\n",
    "    lag_port = portfolio(start_year_month = '2005-01',\n",
    "                 rebalancing_day = 0, # 0, 월의 마지막 거래일에 리밸런싱\n",
    "                 holding_period = 1,\n",
    "                 lagging_period=i)\n",
    "    q_returns = lag_port.construct_portfolio()\n",
    "    q = q.append(q_returns, ignore_index=True)"
   ]
  },
  {
   "cell_type": "code",
   "execution_count": 190,
   "metadata": {},
   "outputs": [],
   "source": [
    "q.index = range(1,len(q)+1)"
   ]
  },
  {
   "cell_type": "code",
   "execution_count": 204,
   "metadata": {},
   "outputs": [
    {
     "data": {
      "image/png": "[encoded data removed]",
      "text/plain": [
       "<Figure size 720x360 with 1 Axes>"
      ]
     },
     "metadata": {
      "needs_background": "light"
     },
     "output_type": "display_data"
    }
   ],
   "source": [
    "q.plot(figsize=(10,5));"
   ]
  },
  {
   "cell_type": "markdown",
   "metadata": {},
   "source": [
    "* Paper와 같이 Q 1,3,5로 그려보면 모양이 다르게 나오는데 아마 equal-weighted 방식으로 포트폴리오를 구성해서 개잡주 수익률의 영향을 크게 받는듯\n",
    "* 전처리를 통해 가벼운 주식을 날리거나(논문에서도 $2 이하 날림) value-weighted 방식으로 하면 비슷하게 나올 듯\n",
    "* Q 2,3,4를 그려보면 Fig 2.와 어느정도 비슷한 개형을 확인할 수 있음"
   ]
  },
  {
   "cell_type": "markdown",
   "metadata": {},
   "source": [
    "![](https://trello-attachments.s3.amazonaws.com/5b29ec749cfb0d90ada47d03/5fbb135a2a4a0409baa86e9c/00a3f46522b4fe7fbbcab7592e72e21c/image.png)"
   ]
  },
  {
   "cell_type": "markdown",
   "metadata": {},
   "source": [
    "## Q portfolio Example"
   ]
  },
  {
   "cell_type": "code",
   "execution_count": 193,
   "metadata": {},
   "outputs": [],
   "source": [
    "Q = lag_port.Q"
   ]
  },
  {
   "cell_type": "code",
   "execution_count": 200,
   "metadata": {},
   "outputs": [
    {
     "data": {
      "text/plain": [
       "강원랜드      0.131846\n",
       "스카이라이프    0.133877\n",
       "한국가스공사    0.138937\n",
       "부국철강      0.141686\n",
       "한국내화      0.143035\n",
       "dtype: float64"
      ]
     },
     "execution_count": 200,
     "metadata": {},
     "output_type": "execute_result"
    }
   ],
   "source": [
    "Q[1].tail()"
   ]
  },
  {
   "cell_type": "code",
   "execution_count": 201,
   "metadata": {},
   "outputs": [
    {
     "data": {
      "text/plain": [
       "진양화학     0.372881\n",
       "쌍용C&E    0.374663\n",
       "영풍       0.375984\n",
       "유수홀딩스    0.376860\n",
       "태경산업     0.379939\n",
       "dtype: float64"
      ]
     },
     "execution_count": 201,
     "metadata": {},
     "output_type": "execute_result"
    }
   ],
   "source": [
    "Q[2].tail()"
   ]
  },
  {
   "cell_type": "code",
   "execution_count": 202,
   "metadata": {},
   "outputs": [
    {
     "data": {
      "text/plain": [
       "KR모터스    0.591837\n",
       "현대차증권    0.593220\n",
       "원림       0.594735\n",
       "모토닉      0.595052\n",
       "SK증권     0.595238\n",
       "dtype: float64"
      ]
     },
     "execution_count": 202,
     "metadata": {},
     "output_type": "execute_result"
    }
   ],
   "source": [
    "Q[3].tail()"
   ]
  },
  {
   "cell_type": "code",
   "execution_count": 203,
   "metadata": {},
   "outputs": [
    {
     "data": {
      "text/plain": [
       "한세실업       1.011364\n",
       "케이씨씨글라스    1.012442\n",
       "에넥스        1.012712\n",
       "팬오션        1.014577\n",
       "LS네트웍스     1.034301\n",
       "dtype: float64"
      ]
     },
     "execution_count": 203,
     "metadata": {},
     "output_type": "execute_result"
    }
   ],
   "source": [
    "Q[4].tail()"
   ]
  },
  {
   "cell_type": "code",
   "execution_count": 199,
   "metadata": {},
   "outputs": [
    {
     "data": {
      "text/plain": [
       "서연       4.518248\n",
       "포스코강판    4.555556\n",
       "이스타코     5.184012\n",
       "덕성       6.185629\n",
       "HMM      9.597652\n",
       "dtype: float64"
      ]
     },
     "execution_count": 199,
     "metadata": {},
     "output_type": "execute_result"
    }
   ],
   "source": [
    "Q[5].tail()"
   ]
  }
 ],
 "metadata": {
  "kernelspec": {
   "display_name": "Python 3",
   "language": "python",
   "name": "python3"
  },
  "language_info": {
   "codemirror_mode": {
    "name": "ipython",
    "version": 3
   },
   "file_extension": ".py",
   "mimetype": "text/x-python",
   "name": "python",
   "nbconvert_exporter": "python",
   "pygments_lexer": "ipython3",
   "version": "3.8.3"
  },
  "toc": {
   "base_numbering": 1,
   "nav_menu": {},
   "number_sections": true,
   "sideBar": true,
   "skip_h1_title": true,
   "title_cell": "Table of Contents",
   "title_sidebar": "Contents",
   "toc_cell": true,
   "toc_position": {},
   "toc_section_display": true,
   "toc_window_display": true
  }
 },
 "nbformat": 4,
 "nbformat_minor": 4
}
