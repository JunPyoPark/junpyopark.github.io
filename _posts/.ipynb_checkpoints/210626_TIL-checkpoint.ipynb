{
 "cells": [
  {
   "cell_type": "markdown",
   "metadata": {},
   "source": [
    "# 210626 (토) TIL(Today I Learned)"
   ]
  },
  {
   "cell_type": "markdown",
   "metadata": {},
   "source": [
    "토요일은 개발 공부 하는날"
   ]
  },
  {
   "cell_type": "markdown",
   "metadata": {
    "toc": true
   },
   "source": [
    "<h1>Table of Contents<span class=\"tocSkip\"></span></h1>\n",
    "<div class=\"toc\"><ul class=\"toc-item\"><li><span><a href=\"#패스트-캠퍼스-강의-결제\" data-toc-modified-id=\"패스트-캠퍼스-강의-결제-1\"><span class=\"toc-item-num\">1&nbsp;&nbsp;</span>패스트 캠퍼스 강의 결제</a></span></li><li><span><a href=\"#Node.js-공부-시작\" data-toc-modified-id=\"Node.js-공부-시작-2\"><span class=\"toc-item-num\">2&nbsp;&nbsp;</span>Node.js 공부 시작</a></span><ul class=\"toc-item\"><li><span><a href=\"#Glitch-사용해서-바로-코딩하기\" data-toc-modified-id=\"Glitch-사용해서-바로-코딩하기-2.1\"><span class=\"toc-item-num\">2.1&nbsp;&nbsp;</span><a href=\"https://glitch.com/\" target=\"_blank\">Glitch</a> 사용해서 바로 코딩하기</a></span></li><li><span><a href=\"#Node-버젼-관리\" data-toc-modified-id=\"Node-버젼-관리-2.2\"><span class=\"toc-item-num\">2.2&nbsp;&nbsp;</span>Node 버젼 관리</a></span></li></ul></li></ul></div>"
   ]
  },
  {
   "cell_type": "markdown",
   "metadata": {},
   "source": [
    "## 패스트 캠퍼스 강의 결제"
   ]
  },
  {
   "cell_type": "markdown",
   "metadata": {},
   "source": [
    "* Node.js 초격차 강의"
   ]
  },
  {
   "cell_type": "markdown",
   "metadata": {},
   "source": [
    "## Node.js 공부 시작"
   ]
  },
  {
   "cell_type": "markdown",
   "metadata": {},
   "source": [
    "### [Glitch](https://glitch.com/) 사용해서 바로 코딩하기"
   ]
  },
  {
   "cell_type": "markdown",
   "metadata": {},
   "source": [
    "웹에서 간단하게 Node 코딩 가능"
   ]
  },
  {
   "cell_type": "markdown",
   "metadata": {},
   "source": [
    "![](https://trello-attachments.s3.amazonaws.com/5b29ec749cfb0d90ada47d03/60a2a3f20169823a1998ab25/8dd23cdea04173a9b7d482c6f2f3cd83/image.png)"
   ]
  },
  {
   "cell_type": "markdown",
   "metadata": {},
   "source": [
    "### Node 버젼 관리"
   ]
  },
  {
   "cell_type": "markdown",
   "metadata": {},
   "source": [
    "* [tj/n](https://github.com/tj/n): nvm 보다 쉽게 관리 가능"
   ]
  }
 ],
 "metadata": {
  "kernelspec": {
   "display_name": "Python 3",
   "language": "python",
   "name": "python3"
  },
  "language_info": {
   "codemirror_mode": {
    "name": "ipython",
    "version": 3
   },
   "file_extension": ".py",
   "mimetype": "text/x-python",
   "name": "python",
   "nbconvert_exporter": "python",
   "pygments_lexer": "ipython3",
   "version": "3.8.3"
  },
  "toc": {
   "base_numbering": 1,
   "nav_menu": {},
   "number_sections": true,
   "sideBar": true,
   "skip_h1_title": true,
   "title_cell": "Table of Contents",
   "title_sidebar": "Contents",
   "toc_cell": true,
   "toc_position": {},
   "toc_section_display": true,
   "toc_window_display": true
  }
 },
 "nbformat": 4,
 "nbformat_minor": 4
}
