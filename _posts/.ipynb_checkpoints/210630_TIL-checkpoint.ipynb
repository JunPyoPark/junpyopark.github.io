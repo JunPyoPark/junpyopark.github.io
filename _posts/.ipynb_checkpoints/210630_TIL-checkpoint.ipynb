{
 "cells": [
  {
   "cell_type": "markdown",
   "metadata": {},
   "source": [
    "# 210630 Today I Learned"
   ]
  },
  {
   "cell_type": "markdown",
   "metadata": {
    "toc": true
   },
   "source": [
    "<h1>Table of Contents<span class=\"tocSkip\"></span></h1>\n",
    "<div class=\"toc\"><ul class=\"toc-item\"><li><span><a href=\"#논문-리딩\" data-toc-modified-id=\"논문-리딩-1\"><span class=\"toc-item-num\">1&nbsp;&nbsp;</span>논문 리딩</a></span></li><li><span><a href=\"#Journal-Club-논문-선정\" data-toc-modified-id=\"Journal-Club-논문-선정-2\"><span class=\"toc-item-num\">2&nbsp;&nbsp;</span>Journal Club 논문 선정</a></span></li></ul></div>"
   ]
  },
  {
   "cell_type": "markdown",
   "metadata": {},
   "source": [
    "## 논문 리딩"
   ]
  },
  {
   "cell_type": "markdown",
   "metadata": {},
   "source": [
    "* [Individualized Short-Term Electric Load Forecasting With Deep Neural Network Based Transfer Learning and Meta Learning](https://ieeexplore.ieee.org/stamp/stamp.jsp?tp=&arnumber=9330546)"
   ]
  },
  {
   "cell_type": "markdown",
   "metadata": {},
   "source": [
    "> 전이학습(transfer learning), 메타러닝(meta learning) 관련 개념 정리"
   ]
  },
  {
   "cell_type": "markdown",
   "metadata": {},
   "source": [
    "* [Reinforcement Learning via Parametric Cost Function Approximation for Multistage Stochastic Programming](https://arxiv.org/pdf/2001.00831.pdf)"
   ]
  },
  {
   "cell_type": "markdown",
   "metadata": {},
   "source": [
    "> 교수님 픽 너무 어렵다...."
   ]
  },
  {
   "cell_type": "markdown",
   "metadata": {},
   "source": [
    "## Journal Club 논문 선정"
   ]
  },
  {
   "cell_type": "markdown",
   "metadata": {},
   "source": [
    "* [가속화 모멘텀(2015)](https://www.researchgate.net/publication/294582144_Momentum_Acceleration_and_Reversal), [가속화 듀얼 모멘텀(2018)](https://engineeredportfolio.com/2018/05/02/accelerating-dual-momentum-investing/)\n",
    "> * [설명과 한계점](https://blog.naver.com/mynameisdj/221427963870)\n",
    "> * [대신증권 리포트](http://money2.daishin.com/E5/Mail/eDM/Research/popup_pdf.aspx?gb=4&seq=46461)\n",
    "\n",
    "* [Lazy Momentum with Growth-Trend timing: Resilient Asset Allocation (RAA)](https://papers.ssrn.com/sol3/papers.cfm?abstract_id=3752294)\n"
   ]
  },
  {
   "cell_type": "markdown",
   "metadata": {},
   "source": [
    "코드 짜서 돌려보기"
   ]
  }
 ],
 "metadata": {
  "kernelspec": {
   "display_name": "Python 3",
   "language": "python",
   "name": "python3"
  },
  "language_info": {
   "codemirror_mode": {
    "name": "ipython",
    "version": 3
   },
   "file_extension": ".py",
   "mimetype": "text/x-python",
   "name": "python",
   "nbconvert_exporter": "python",
   "pygments_lexer": "ipython3",
   "version": "3.8.3"
  },
  "toc": {
   "base_numbering": 1,
   "nav_menu": {},
   "number_sections": true,
   "sideBar": true,
   "skip_h1_title": true,
   "title_cell": "Table of Contents",
   "title_sidebar": "Contents",
   "toc_cell": true,
   "toc_position": {},
   "toc_section_display": true,
   "toc_window_display": true
  }
 },
 "nbformat": 4,
 "nbformat_minor": 4
}
