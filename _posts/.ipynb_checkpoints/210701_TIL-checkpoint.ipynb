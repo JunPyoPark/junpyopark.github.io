{
 "cells": [
  {
   "cell_type": "markdown",
   "metadata": {},
   "source": [
    "# 210701 Today I Learned"
   ]
  },
  {
   "cell_type": "markdown",
   "metadata": {
    "toc": true
   },
   "source": [
    "<h1>Table of Contents<span class=\"tocSkip\"></span></h1>\n",
    "<div class=\"toc\"><ul class=\"toc-item\"><li><span><a href=\"#Dive-into-Deep-Learning-공부\" data-toc-modified-id=\"Dive-into-Deep-Learning-공부-1\"><span class=\"toc-item-num\">1&nbsp;&nbsp;</span>Dive into Deep Learning 공부</a></span></li><li><span><a href=\"#저널-클럽-참여\" data-toc-modified-id=\"저널-클럽-참여-2\"><span class=\"toc-item-num\">2&nbsp;&nbsp;</span>저널 클럽 참여</a></span></li><li><span><a href=\"#모투-대회-시작\" data-toc-modified-id=\"모투-대회-시작-3\"><span class=\"toc-item-num\">3&nbsp;&nbsp;</span>모투 대회 시작</a></span></li><li><span><a href=\"#Auto-Encoder-Toy-Model-개선\" data-toc-modified-id=\"Auto-Encoder-Toy-Model-개선-4\"><span class=\"toc-item-num\">4&nbsp;&nbsp;</span>Auto Encoder Toy Model 개선</a></span></li></ul></div>"
   ]
  },
  {
   "cell_type": "markdown",
   "metadata": {},
   "source": [
    "## Dive into Deep Learning 공부"
   ]
  },
  {
   "cell_type": "markdown",
   "metadata": {},
   "source": [
    "## 저널 클럽 참여"
   ]
  },
  {
   "cell_type": "markdown",
   "metadata": {},
   "source": [
    "## 모투 대회 시작"
   ]
  },
  {
   "cell_type": "markdown",
   "metadata": {},
   "source": [
    "* 간만에 장전 시황 체크\n",
    "* 모투 대회 기간이 한달이라 그에 맞는 전략 생각"
   ]
  },
  {
   "cell_type": "markdown",
   "metadata": {},
   "source": [
    "![](https://trello-attachments.s3.amazonaws.com/5b29ec749cfb0d90ada47d03/60a2a3f20169823a1998ab25/5aeb5cb7493c7ef5feecbe228898eea8/image.png)"
   ]
  },
  {
   "cell_type": "markdown",
   "metadata": {},
   "source": [
    "## Auto Encoder Toy Model 개선"
   ]
  },
  {
   "cell_type": "markdown",
   "metadata": {},
   "source": [
    "* 데이터셋 stochastic process(GBM)으로 생성한 time series로 변경\n",
    "* 모델 복잡도 올리기\n",
    "![](https://trello-attachments.s3.amazonaws.com/5b29ec749cfb0d90ada47d03/5fbb135a2a4a0409baa86e9c/91ed77a04535aa312f15eb8b0175042d/image.png)"
   ]
  }
 ],
 "metadata": {
  "kernelspec": {
   "display_name": "Python 3",
   "language": "python",
   "name": "python3"
  },
  "language_info": {
   "codemirror_mode": {
    "name": "ipython",
    "version": 3
   },
   "file_extension": ".py",
   "mimetype": "text/x-python",
   "name": "python",
   "nbconvert_exporter": "python",
   "pygments_lexer": "ipython3",
   "version": "3.8.3"
  },
  "toc": {
   "base_numbering": 1,
   "nav_menu": {},
   "number_sections": true,
   "sideBar": true,
   "skip_h1_title": true,
   "title_cell": "Table of Contents",
   "title_sidebar": "Contents",
   "toc_cell": true,
   "toc_position": {},
   "toc_section_display": true,
   "toc_window_display": true
  }
 },
 "nbformat": 4,
 "nbformat_minor": 4
}
