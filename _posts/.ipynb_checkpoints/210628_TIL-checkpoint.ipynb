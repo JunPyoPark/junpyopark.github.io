{
 "cells": [
  {
   "cell_type": "markdown",
   "metadata": {},
   "source": [
    "# 210628 Today I Learned"
   ]
  },
  {
   "cell_type": "markdown",
   "metadata": {
    "toc": true
   },
   "source": [
    "<h1>Table of Contents<span class=\"tocSkip\"></span></h1>\n",
    "<div class=\"toc\"><ul class=\"toc-item\"><li><span><a href=\"#Multivariate-Time-Series-논문-서칭\" data-toc-modified-id=\"Multivariate-Time-Series-논문-서칭-1\"><span class=\"toc-item-num\">1&nbsp;&nbsp;</span>Multivariate Time Series 논문 서칭</a></span><ul class=\"toc-item\"><li><span><a href=\"#TapNet(Time-series-attentional-prototype-network)\" data-toc-modified-id=\"TapNet(Time-series-attentional-prototype-network)-1.1\"><span class=\"toc-item-num\">1.1&nbsp;&nbsp;</span><a href=\"https://xuczhang.github.io/papers/aaai20_tapnet.pdf\" target=\"_blank\">TapNet(Time series attentional prototype network)</a></a></span></li><li><span><a href=\"#Connecting-the-Dots:-Multivariate-Time-Series-Forecasting-with-Graph-Neural-Networks\" data-toc-modified-id=\"Connecting-the-Dots:-Multivariate-Time-Series-Forecasting-with-Graph-Neural-Networks-1.2\"><span class=\"toc-item-num\">1.2&nbsp;&nbsp;</span><a href=\"https://arxiv.org/pdf/2005.11650.pdf\" target=\"_blank\">Connecting the Dots: Multivariate Time Series Forecasting with Graph Neural Networks</a></a></span></li><li><span><a href=\"#Multivariate-weighted-multiscale-permutation-entropy-for-complex-time-series\" data-toc-modified-id=\"Multivariate-weighted-multiscale-permutation-entropy-for-complex-time-series-1.3\"><span class=\"toc-item-num\">1.3&nbsp;&nbsp;</span><a href=\"https://link.springer.com/content/pdf/10.1007/s11071-017-3340-5.pdf\" target=\"_blank\">Multivariate weighted multiscale permutation entropy for complex time series</a></a></span></li><li><span><a href=\"#Generation-of-multivariate-time-series-using-neural-networks\" data-toc-modified-id=\"Generation-of-multivariate-time-series-using-neural-networks-1.4\"><span class=\"toc-item-num\">1.4&nbsp;&nbsp;</span><a href=\"https://repository.tudelft.nl/islandora/object/uuid:b1cc2e66-dabb-497f-a3ea-5d37a17eb742/datastream/OBJ/download\" target=\"_blank\">Generation of multivariate time series using neural networks</a></a></span></li><li><span><a href=\"#Conditional-GAN-for-Time-Series-Generation\" data-toc-modified-id=\"Conditional-GAN-for-Time-Series-Generation-1.5\"><span class=\"toc-item-num\">1.5&nbsp;&nbsp;</span><a href=\"https://arxiv.org/pdf/2006.16477.pdf\" target=\"_blank\">Conditional GAN for Time Series Generation</a></a></span></li></ul></li><li><span><a href=\"#Toy-Problem-실험-세팅하기\" data-toc-modified-id=\"Toy-Problem-실험-세팅하기-2\"><span class=\"toc-item-num\">2&nbsp;&nbsp;</span>Toy Problem 실험 세팅하기</a></span></li><li><span><a href=\"#알파스퀘어-교내-모의투자-대회-참가-신청\" data-toc-modified-id=\"알파스퀘어-교내-모의투자-대회-참가-신청-3\"><span class=\"toc-item-num\">3&nbsp;&nbsp;</span>알파스퀘어 교내 모의투자 대회 참가 신청</a></span></li></ul></div>"
   ]
  },
  {
   "cell_type": "markdown",
   "metadata": {},
   "source": [
    "## Multivariate Time Series 논문 서칭"
   ]
  },
  {
   "cell_type": "markdown",
   "metadata": {},
   "source": [
    "### [TapNet(Time series attentional prototype network)](https://xuczhang.github.io/papers/aaai20_tapnet.pdf)"
   ]
  },
  {
   "cell_type": "markdown",
   "metadata": {},
   "source": [
    "Random Dimension Permutation이 좋은 방법인지?"
   ]
  },
  {
   "cell_type": "markdown",
   "metadata": {},
   "source": [
    "### [Connecting the Dots: Multivariate Time Series Forecasting with Graph Neural Networks](https://arxiv.org/pdf/2005.11650.pdf)"
   ]
  },
  {
   "cell_type": "markdown",
   "metadata": {},
   "source": [
    "Time Series들을 Node에 넣어서 GNN의 좋은 특성(eg. permutation invariance)들을 가지는 모델을 만들 수 있다."
   ]
  },
  {
   "cell_type": "markdown",
   "metadata": {},
   "source": [
    "### [Multivariate weighted multiscale permutation entropy for complex time series](https://link.springer.com/content/pdf/10.1007/s11071-017-3340-5.pdf)"
   ]
  },
  {
   "cell_type": "markdown",
   "metadata": {},
   "source": [
    "찾던 내용은 아니지만 multivariate time series에 대한 엔트로피 개념이 있다는 사실을 알게 됨\n",
    "\n",
    "[Github: Multivariate multiscale permutation entropy](https://github.com/alberto-ara/Multivariate-multiscale-permutation-entropy)"
   ]
  },
  {
   "cell_type": "markdown",
   "metadata": {},
   "source": [
    "### [Generation of multivariate time series using neural networks](https://repository.tudelft.nl/islandora/object/uuid:b1cc2e66-dabb-497f-a3ea-5d37a17eb742/datastream/OBJ/download)\n"
   ]
  },
  {
   "cell_type": "markdown",
   "metadata": {},
   "source": [
    "박사학위 논문으로 [Gibbs sampling](https://en.wikipedia.org/wiki/Gibbs_sampling)을 neural net(WaveNet)으로 구현"
   ]
  },
  {
   "cell_type": "markdown",
   "metadata": {},
   "source": [
    "### [Conditional GAN for Time Series Generation](https://arxiv.org/pdf/2006.16477.pdf)"
   ]
  },
  {
   "cell_type": "markdown",
   "metadata": {},
   "source": [
    "[TSGAN Github](https://github.com/Yashkataria/CGAN-for-time-series/blob/master/WGAN2_for_Conditional_GAN_for_TS_Generation_using_spectrogram_array.ipynb)"
   ]
  },
  {
   "cell_type": "markdown",
   "metadata": {},
   "source": [
    "## Toy Problem 실험 세팅하기"
   ]
  },
  {
   "cell_type": "markdown",
   "metadata": {},
   "source": [
    "간단하게 Auto Encoder 만들어서 실험"
   ]
  },
  {
   "cell_type": "markdown",
   "metadata": {},
   "source": [
    "7! = 5040개 정도의 train sample 돌리고 퇴근"
   ]
  },
  {
   "cell_type": "markdown",
   "metadata": {},
   "source": [
    "## 알파스퀘어 교내 모의투자 대회 참가 신청"
   ]
  },
  {
   "cell_type": "markdown",
   "metadata": {},
   "source": [
    "https://blog.naver.com/anthouse28/222408555769"
   ]
  },
  {
   "cell_type": "markdown",
   "metadata": {},
   "source": [
    "7월 한달간 수익률 최대화 할 수 있는 전략 찾기"
   ]
  }
 ],
 "metadata": {
  "kernelspec": {
   "display_name": "Python 3",
   "language": "python",
   "name": "python3"
  },
  "language_info": {
   "codemirror_mode": {
    "name": "ipython",
    "version": 3
   },
   "file_extension": ".py",
   "mimetype": "text/x-python",
   "name": "python",
   "nbconvert_exporter": "python",
   "pygments_lexer": "ipython3",
   "version": "3.8.3"
  },
  "toc": {
   "base_numbering": 1,
   "nav_menu": {},
   "number_sections": true,
   "sideBar": true,
   "skip_h1_title": true,
   "title_cell": "Table of Contents",
   "title_sidebar": "Contents",
   "toc_cell": true,
   "toc_position": {},
   "toc_section_display": true,
   "toc_window_display": true
  }
 },
 "nbformat": 4,
 "nbformat_minor": 4
}
