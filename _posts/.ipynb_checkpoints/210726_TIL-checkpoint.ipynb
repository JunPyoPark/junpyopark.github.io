{
 "cells": [
  {
   "cell_type": "markdown",
   "metadata": {},
   "source": [
    "# 210726 Today I Learned"
   ]
  },
  {
   "cell_type": "markdown",
   "metadata": {
    "toc": true
   },
   "source": [
    "<h1>Table of Contents<span class=\"tocSkip\"></span></h1>\n",
    "<div class=\"toc\"><ul class=\"toc-item\"><li><span><a href=\"#논문-리딩\" data-toc-modified-id=\"논문-리딩-1\"><span class=\"toc-item-num\">1&nbsp;&nbsp;</span>논문 리딩</a></span></li><li><span><a href=\"#ICML-2021-둘러보기\" data-toc-modified-id=\"ICML-2021-둘러보기-2\"><span class=\"toc-item-num\">2&nbsp;&nbsp;</span>ICML 2021 둘러보기</a></span></li><li><span><a href=\"#Dive-into-Deep-Learning-공부\" data-toc-modified-id=\"Dive-into-Deep-Learning-공부-3\"><span class=\"toc-item-num\">3&nbsp;&nbsp;</span>Dive into Deep Learning 공부</a></span></li><li><span><a href=\"#우철킴-수리통계\" data-toc-modified-id=\"우철킴-수리통계-4\"><span class=\"toc-item-num\">4&nbsp;&nbsp;</span>우철킴 수리통계</a></span></li></ul></div>"
   ]
  },
  {
   "cell_type": "markdown",
   "metadata": {},
   "source": [
    "## 논문 리딩"
   ]
  },
  {
   "cell_type": "markdown",
   "metadata": {},
   "source": [
    "* A Recurrent Latent Variable Model for Sequential Data\n",
    "    \n",
    "이해하는중..."
   ]
  },
  {
   "cell_type": "markdown",
   "metadata": {},
   "source": [
    "---"
   ]
  },
  {
   "cell_type": "markdown",
   "metadata": {},
   "source": [
    "## ICML 2021 둘러보기"
   ]
  },
  {
   "cell_type": "markdown",
   "metadata": {},
   "source": [
    "[ICML 2021 Workshop on Representation Learning for Finance and e-Commerce Applications](https://sites.google.com/view/rlfeca2021/home?authuser=0)"
   ]
  },
  {
   "cell_type": "markdown",
   "metadata": {},
   "source": [
    "Fundamental Tradeoffs in Distributionally Adversarial Training\n",
    "* 쫌 어렵네여...."
   ]
  },
  {
   "cell_type": "markdown",
   "metadata": {},
   "source": [
    "Pareto GAN: Extending the Representational Power of GANs to Heavy-Tailed Distributions\n",
    "* Heavy-Tailed Distribution을 다루고 있어서 읽어보면 좋을 듯"
   ]
  },
  {
   "cell_type": "markdown",
   "metadata": {},
   "source": [
    "## Dive into Deep Learning 공부"
   ]
  },
  {
   "cell_type": "markdown",
   "metadata": {},
   "source": [
    "https://github.com/JunPyoPark/d2l/blob/main/Chapter04_Multilayer%20Perceptrons/04_1.ipynb\n",
    "* Chapter 4 MLP 끝 (Distribution Shift 부분 나중에 자세히 보기)\n",
    "* Chapter 5 보는중"
   ]
  },
  {
   "cell_type": "markdown",
   "metadata": {},
   "source": [
    "## 우철킴 수리통계\n",
    "* 1단원 끝"
   ]
  }
 ],
 "metadata": {
  "interpreter": {
   "hash": "a874ce123973697a31e045c2ef415478c44c709b97254e39ee08388f91743410"
  },
  "kernelspec": {
   "display_name": "Python 3",
   "language": "python",
   "name": "python3"
  },
  "language_info": {
   "codemirror_mode": {
    "name": "ipython",
    "version": 3
   },
   "file_extension": ".py",
   "mimetype": "text/x-python",
   "name": "python",
   "nbconvert_exporter": "python",
   "pygments_lexer": "ipython3",
   "version": "3.8.3"
  },
  "toc": {
   "base_numbering": 1,
   "nav_menu": {},
   "number_sections": true,
   "sideBar": true,
   "skip_h1_title": true,
   "title_cell": "Table of Contents",
   "title_sidebar": "Contents",
   "toc_cell": true,
   "toc_position": {},
   "toc_section_display": true,
   "toc_window_display": false
  }
 },
 "nbformat": 4,
 "nbformat_minor": 4
}
