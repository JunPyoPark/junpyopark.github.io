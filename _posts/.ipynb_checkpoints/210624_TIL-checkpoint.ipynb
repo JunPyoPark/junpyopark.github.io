{
 "cells": [
  {
   "cell_type": "markdown",
   "metadata": {},
   "source": [
    "# 210624 TIL(Today I Learned)"
   ]
  },
  {
   "cell_type": "markdown",
   "metadata": {
    "toc": true
   },
   "source": [
    "<h1>Table of Contents<span class=\"tocSkip\"></span></h1>\n",
    "<div class=\"toc\"><ul class=\"toc-item\"><li><span><a href=\"#Dive-into-Deep-Learning\" data-toc-modified-id=\"Dive-into-Deep-Learning-1\"><span class=\"toc-item-num\">1&nbsp;&nbsp;</span>Dive into Deep Learning</a></span></li><li><span><a href=\"#논문리딩\" data-toc-modified-id=\"논문리딩-2\"><span class=\"toc-item-num\">2&nbsp;&nbsp;</span>논문리딩</a></span></li><li><span><a href=\"#공모전-회의\" data-toc-modified-id=\"공모전-회의-3\"><span class=\"toc-item-num\">3&nbsp;&nbsp;</span>공모전 회의</a></span></li></ul></div>"
   ]
  },
  {
   "cell_type": "markdown",
   "metadata": {},
   "source": [
    "## Dive into Deep Learning"
   ]
  },
  {
   "cell_type": "markdown",
   "metadata": {},
   "source": [
    "* PyTorch 버전 다운 받아서 35쪽 까지 읽음"
   ]
  },
  {
   "cell_type": "markdown",
   "metadata": {},
   "source": [
    "## 논문리딩"
   ]
  },
  {
   "cell_type": "markdown",
   "metadata": {},
   "source": [
    "* Generative Adversarial Networks 복습"
   ]
  },
  {
   "cell_type": "markdown",
   "metadata": {},
   "source": [
    "* Time Series Simulation by Conditional Generative Adversarial Net\n",
    "    \n",
    "    * 웰스파고(Corporate Model Risk Management at Wells Fargo)에서 발행한 논문\n",
    "    * CGAN(Conditional GAN)을 통해 시계열의 분포와 dependency structure을 학습시키고 실제와 같은 conditional 시계열 생성"
   ]
  },
  {
   "cell_type": "markdown",
   "metadata": {},
   "source": [
    "## 공모전 회의"
   ]
  },
  {
   "cell_type": "markdown",
   "metadata": {},
   "source": [
    "https://kopis.or.kr/por/cs/notice/csNoticeListView.do?ntt_id=1601&listCurPage=1&srchType=subject&srchText=&menuId=MNU_000104"
   ]
  }
 ],
 "metadata": {
  "kernelspec": {
   "display_name": "Python 3",
   "language": "python",
   "name": "python3"
  },
  "language_info": {
   "codemirror_mode": {
    "name": "ipython",
    "version": 3
   },
   "file_extension": ".py",
   "mimetype": "text/x-python",
   "name": "python",
   "nbconvert_exporter": "python",
   "pygments_lexer": "ipython3",
   "version": "3.8.3"
  },
  "toc": {
   "base_numbering": 1,
   "nav_menu": {},
   "number_sections": true,
   "sideBar": true,
   "skip_h1_title": true,
   "title_cell": "Table of Contents",
   "title_sidebar": "Contents",
   "toc_cell": true,
   "toc_position": {},
   "toc_section_display": true,
   "toc_window_display": true
  }
 },
 "nbformat": 4,
 "nbformat_minor": 4
}
