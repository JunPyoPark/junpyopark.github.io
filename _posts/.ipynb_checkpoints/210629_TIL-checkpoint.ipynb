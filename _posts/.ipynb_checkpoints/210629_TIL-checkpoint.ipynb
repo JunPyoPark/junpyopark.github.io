{
 "cells": [
  {
   "cell_type": "markdown",
   "metadata": {},
   "source": [
    "# 210629 Today I Learned"
   ]
  },
  {
   "cell_type": "markdown",
   "metadata": {
    "toc": true
   },
   "source": [
    "<h1>Table of Contents<span class=\"tocSkip\"></span></h1>\n",
    "<div class=\"toc\"><ul class=\"toc-item\"><li><span><a href=\"#어제-돌리고-간-결과물-분석\" data-toc-modified-id=\"어제-돌리고-간-결과물-분석-1\"><span class=\"toc-item-num\">1&nbsp;&nbsp;</span>어제 돌리고 간 결과물 분석</a></span></li><li><span><a href=\"#Auto-Encoder의-Time-Series-학습-능력-평가\" data-toc-modified-id=\"Auto-Encoder의-Time-Series-학습-능력-평가-2\"><span class=\"toc-item-num\">2&nbsp;&nbsp;</span>Auto Encoder의 Time Series 학습 능력 평가</a></span></li><li><span><a href=\"#램-추가-구매(AICP)\" data-toc-modified-id=\"램-추가-구매(AICP)-3\"><span class=\"toc-item-num\">3&nbsp;&nbsp;</span>램 추가 구매(AICP)</a></span></li><li><span><a href=\"#SSH-서버-문제-해결\" data-toc-modified-id=\"SSH-서버-문제-해결-4\"><span class=\"toc-item-num\">4&nbsp;&nbsp;</span>SSH 서버 문제 해결</a></span></li></ul></div>"
   ]
  },
  {
   "cell_type": "markdown",
   "metadata": {},
   "source": [
    "## 어제 돌리고 간 결과물 분석"
   ]
  },
  {
   "cell_type": "markdown",
   "metadata": {},
   "source": [
    "시각화 및 통계량 뽑기"
   ]
  },
  {
   "cell_type": "markdown",
   "metadata": {},
   "source": [
    "## Auto Encoder의 Time Series 학습 능력 평가"
   ]
  },
  {
   "cell_type": "markdown",
   "metadata": {},
   "source": [
    "Simple Model에 대해서 분포가 어떻게 학습되는지 보기"
   ]
  },
  {
   "cell_type": "markdown",
   "metadata": {},
   "source": [
    "Notion에 정리 완료"
   ]
  },
  {
   "cell_type": "markdown",
   "metadata": {},
   "source": [
    "## 램 추가 구매(AICP)"
   ]
  },
  {
   "cell_type": "markdown",
   "metadata": {},
   "source": [
    "[50만원 이하 32기가 2개](https://www.coupang.com/vp/products/5063855787?itemId=6841891969&vendorItemId=74134581894&src=1032034&spec=10305201&addtag=400&ctag=5063855787&lptag=P5063855787&itime=20210629114714&pageType=PRODUCT&pageValue=5063855787&wPcid=7744742482931827400018&wRef=prod.danawa.com&wTime=20210629114714&redirect=landing&isAddedCart=)"
   ]
  },
  {
   "cell_type": "markdown",
   "metadata": {},
   "source": [
    "## SSH 서버 문제 해결"
   ]
  },
  {
   "cell_type": "markdown",
   "metadata": {},
   "source": [
    "아무 문제가 없는데 접속이 안될 때는 와이파이를 바꿔 보자 (30분 걸림....)"
   ]
  }
 ],
 "metadata": {
  "kernelspec": {
   "display_name": "Python 3",
   "language": "python",
   "name": "python3"
  },
  "language_info": {
   "codemirror_mode": {
    "name": "ipython",
    "version": 3
   },
   "file_extension": ".py",
   "mimetype": "text/x-python",
   "name": "python",
   "nbconvert_exporter": "python",
   "pygments_lexer": "ipython3",
   "version": "3.8.3"
  },
  "toc": {
   "base_numbering": 1,
   "nav_menu": {},
   "number_sections": true,
   "sideBar": true,
   "skip_h1_title": true,
   "title_cell": "Table of Contents",
   "title_sidebar": "Contents",
   "toc_cell": true,
   "toc_position": {},
   "toc_section_display": true,
   "toc_window_display": true
  }
 },
 "nbformat": 4,
 "nbformat_minor": 4
}
