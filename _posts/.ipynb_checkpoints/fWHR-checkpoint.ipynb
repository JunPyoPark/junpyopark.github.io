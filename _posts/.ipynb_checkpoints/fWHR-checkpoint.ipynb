{
 "cells": [
  {
   "cell_type": "markdown",
   "metadata": {},
   "source": [
    "# [논문 3줄 요약] 헤지펀드 매니저의 관상을 분석해보자"
   ]
  },
  {
   "cell_type": "markdown",
   "metadata": {},
   "source": [
    "* **Paper**: [Do Alpha Males Deliver Alpha? Facial Width-to-Height Ratio and Hedge Funds](https://papers.ssrn.com/sol3/papers.cfm?abstract_id=3100645)\n",
    "* **Reference**: [위험을 많이 감수할 관상은?](https://m.blog.naver.com/PostView.naver?isHttpsRedirect=true&blogId=ayhkim3&logNo=220946997315)"
   ]
  },
  {
   "cell_type": "markdown",
   "metadata": {},
   "source": [
    "#### 1. 남성 헤지펀드 매니저의 fWHR(facial width-to-height ratio, 이마의 너비를 눈썹과 입술 사이의 거리로 나눈 값)이 클수록 상남자식 운용을 해서 수익률을 까먹는 경우가 더 자주 발생함"
   ]
  },
  {
   "cell_type": "markdown",
   "metadata": {},
   "source": [
    "<img src=\"https://trello-attachments.s3.amazonaws.com/5b29ec749cfb0d90ada47d03/5fbb135a2a4a0409baa86e9c/ca5bf10e385aa5db2641cb354ac0fe3b/image.png\" width=700>"
   ]
  },
  {
   "cell_type": "markdown",
   "metadata": {},
   "source": [
    "        왼쪽이 fWHR 하위 10% 오른쪽이 상위 10%의 중첩된 이미지 (10장을 랜덤 샘플링)"
   ]
  },
  {
   "cell_type": "markdown",
   "metadata": {},
   "source": [
    "<img src=\"https://trello-attachments.s3.amazonaws.com/5b29ec749cfb0d90ada47d03/5fbb135a2a4a0409baa86e9c/dab59ad04330718176e6baedf55d6e30/image.png\" width=700>"
   ]
  },
  {
   "cell_type": "markdown",
   "metadata": {},
   "source": [
    "        주황색이 fWHR 하위 10% 파랑색이 상위 10%의 cumulative abnormal return"
   ]
  },
  {
   "cell_type": "markdown",
   "metadata": {},
   "source": [
    "#### 2. 이는 실제로 fWHR과 상남자 성향(테스토스테론)에 유의미한 관계가 있기 때문"
   ]
  },
  {
   "cell_type": "markdown",
   "metadata": {},
   "source": [
    "#### 3. 그렇다고 무조건 관상만 보고(이마 너비가 넓다고) 거르지는 말고 해당 매니저의 실제 성격이 정말로 관상의 특성과 일치하는지 봐야 한다."
   ]
  }
 ],
 "metadata": {
  "kernelspec": {
   "display_name": "Python 3",
   "language": "python",
   "name": "python3"
  },
  "language_info": {
   "codemirror_mode": {
    "name": "ipython",
    "version": 3
   },
   "file_extension": ".py",
   "mimetype": "text/x-python",
   "name": "python",
   "nbconvert_exporter": "python",
   "pygments_lexer": "ipython3",
   "version": "3.8.3"
  },
  "toc": {
   "base_numbering": 1,
   "nav_menu": {},
   "number_sections": false,
   "sideBar": true,
   "skip_h1_title": false,
   "title_cell": "Table of Contents",
   "title_sidebar": "Contents",
   "toc_cell": false,
   "toc_position": {},
   "toc_section_display": true,
   "toc_window_display": true
  }
 },
 "nbformat": 4,
 "nbformat_minor": 4
}
