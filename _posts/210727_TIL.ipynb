{
 "cells": [
  {
   "cell_type": "markdown",
   "metadata": {},
   "source": [
    "# 210727 Today I Learned"
   ]
  },
  {
   "cell_type": "markdown",
   "metadata": {
    "toc": true
   },
   "source": [
    "<h1>Table of Contents<span class=\"tocSkip\"></span></h1>\n",
    "<div class=\"toc\"><ul class=\"toc-item\"><li><span><a href=\"#Github-Repo-탐색\" data-toc-modified-id=\"Github-Repo-탐색-1\"><span class=\"toc-item-num\">1&nbsp;&nbsp;</span>Github Repo 탐색</a></span></li><li><span><a href=\"#논문-리딩\" data-toc-modified-id=\"논문-리딩-2\"><span class=\"toc-item-num\">2&nbsp;&nbsp;</span>논문 리딩</a></span></li><li><span><a href=\"#미술관-Generative-Deep-Learning-책-읽기\" data-toc-modified-id=\"미술관-Generative-Deep-Learning-책-읽기-3\"><span class=\"toc-item-num\">3&nbsp;&nbsp;</span>미술관 Generative Deep Learning 책 읽기</a></span></li><li><span><a href=\"#Dive-into-Deep-Learning-공부\" data-toc-modified-id=\"Dive-into-Deep-Learning-공부-4\"><span class=\"toc-item-num\">4&nbsp;&nbsp;</span>Dive into Deep Learning 공부</a></span></li></ul></div>"
   ]
  },
  {
   "cell_type": "markdown",
   "metadata": {},
   "source": [
    "## Github Repo 탐색"
   ]
  },
  {
   "cell_type": "markdown",
   "metadata": {},
   "source": [
    "Implementation 진행하기"
   ]
  },
  {
   "cell_type": "markdown",
   "metadata": {},
   "source": [
    "* [VAE-Pytorch](https://github.com/pytorch/examples/blob/master/vae/main.py)\n",
    "\n",
    "    블로그: [Variational Inference 설명](https://ratsgo.github.io/generative%20model/2017/12/19/vi/)"
   ]
  },
  {
   "cell_type": "markdown",
   "metadata": {},
   "source": [
    "* [VRNN-Pytorch](https://github.com/JunPyoPark/VariationalRecurrentNeuralNetwork/blob/master/model.py)"
   ]
  },
  {
   "cell_type": "markdown",
   "metadata": {},
   "source": [
    "* [cGAN-Pytorch](https://github.com/eriklindernoren/PyTorch-GAN/blob/master/implementations/cgan/cgan.py)\n",
    "\n",
    "    블로그 글: [cGAN으로 손글씨 생성(torch)](https://kangbk0120.github.io/articles/2017-08/condgan-imple)"
   ]
  },
  {
   "cell_type": "markdown",
   "metadata": {},
   "source": [
    "## 논문 리딩\n",
    "* A DATA-DRIVEN MARKET SIMULATOR FOR SMALL DATA ENVIRONMENTS: VAE 기반의 마켓 시뮬레이터\n",
    "    \n",
    "    * GAN이 핫한 이유는 이미지 분야에서 성능이 좋아서인데 시계열 생성에서는 VAE도 성능이 괜찮다??고 함\n",
    "    \n",
    "    * VAE로 이미지 생성하면 경계가 흐릿해지는 현상이 발생하는데 이는 시계열에서는 오히려 좋음 (분포를 스무스하게 학습 한다는 느낌?)"
   ]
  },
  {
   "cell_type": "markdown",
   "metadata": {},
   "source": [
    "## 미술관 Generative Deep Learning 책 읽기"
   ]
  },
  {
   "cell_type": "markdown",
   "metadata": {},
   "source": [
    "VAE, WGAN 부분 복습"
   ]
  },
  {
   "cell_type": "markdown",
   "metadata": {},
   "source": [
    "## Dive into Deep Learning 공부"
   ]
  },
  {
   "cell_type": "markdown",
   "metadata": {},
   "source": [
    "* RNN 부분부터 보는중"
   ]
  }
 ],
 "metadata": {
  "interpreter": {
   "hash": "a874ce123973697a31e045c2ef415478c44c709b97254e39ee08388f91743410"
  },
  "kernelspec": {
   "display_name": "Python 3",
   "language": "python",
   "name": "python3"
  },
  "language_info": {
   "codemirror_mode": {
    "name": "ipython",
    "version": 3
   },
   "file_extension": ".py",
   "mimetype": "text/x-python",
   "name": "python",
   "nbconvert_exporter": "python",
   "pygments_lexer": "ipython3",
   "version": "3.8.3"
  },
  "toc": {
   "base_numbering": 1,
   "nav_menu": {},
   "number_sections": true,
   "sideBar": true,
   "skip_h1_title": true,
   "title_cell": "Table of Contents",
   "title_sidebar": "Contents",
   "toc_cell": true,
   "toc_position": {},
   "toc_section_display": true,
   "toc_window_display": false
  }
 },
 "nbformat": 4,
 "nbformat_minor": 4
}
